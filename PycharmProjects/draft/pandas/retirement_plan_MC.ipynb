{
 "cells": [
  {
   "cell_type": "code",
   "execution_count": 1,
   "metadata": {},
   "outputs": [],
   "source": [
    "#personal finance planner"
   ]
  },
  {
   "cell_type": "code",
   "execution_count": 2,
   "metadata": {},
   "outputs": [],
   "source": [
    "import os\n",
    "import requests\n",
    "import pandas as pd\n",
    "from dotenv import load_dotenv\n",
    "import alpaca_trade_api as tradeapi\n",
    "import mc_simulation\n",
    "from MCForecastTools import MCSimulation\n",
    "%matplotlib inline\n",
    "import seaborn as sns\n",
    "import json"
   ]
  },
  {
   "cell_type": "code",
   "execution_count": 3,
   "metadata": {},
   "outputs": [
    {
     "data": {
      "text/plain": [
       "True"
      ]
     },
     "execution_count": 3,
     "metadata": {},
     "output_type": "execute_result"
    }
   ],
   "source": [
    "#loading our .env variable\n",
    "load_dotenv()"
   ]
  },
  {
   "cell_type": "code",
   "execution_count": 4,
   "metadata": {},
   "outputs": [],
   "source": [
    "#current amount of crypto assets\n",
    "my_btc=1.2\n",
    "my_eth=5.3"
   ]
  },
  {
   "cell_type": "code",
   "execution_count": 5,
   "metadata": {},
   "outputs": [],
   "source": [
    "#crypto api url's\n",
    "btc_api=\"https://api.alternative.me/v2/ticker/Bitcoin/?convert=CAD\""
   ]
  },
  {
   "cell_type": "code",
   "execution_count": 6,
   "metadata": {},
   "outputs": [],
   "source": [
    "eth_api=\"https://api.alternative.me/v2/ticker/Ethereum/?convert=CAD\""
   ]
  },
  {
   "cell_type": "code",
   "execution_count": 7,
   "metadata": {},
   "outputs": [],
   "source": [
    "#fetching current eth price\n",
    "eth_request=requests.get(eth_api)"
   ]
  },
  {
   "cell_type": "code",
   "execution_count": 8,
   "metadata": {},
   "outputs": [],
   "source": [
    "\n",
    "eth_price=eth_request.json()"
   ]
  },
  {
   "cell_type": "code",
   "execution_count": 9,
   "metadata": {},
   "outputs": [],
   "source": [
    "eth_data=json.dumps(eth_price,indent=4)"
   ]
  },
  {
   "cell_type": "code",
   "execution_count": 10,
   "metadata": {},
   "outputs": [
    {
     "name": "stdout",
     "output_type": "stream",
     "text": [
      "{\n",
      "    \"data\": {\n",
      "        \"1027\": {\n",
      "            \"id\": 1027,\n",
      "            \"name\": \"Ethereum\",\n",
      "            \"symbol\": \"ETH\",\n",
      "            \"website_slug\": \"ethereum\",\n",
      "            \"rank\": 2,\n",
      "            \"circulating_supply\": 114228686,\n",
      "            \"total_supply\": 114228686,\n",
      "            \"max_supply\": 0,\n",
      "            \"quotes\": {\n",
      "                \"USD\": {\n",
      "                    \"price\": 1043.24,\n",
      "                    \"volume_24h\": 36830034345,\n",
      "                    \"market_cap\": 118753923192,\n",
      "                    \"percentage_change_1h\": 2.09031331499243,\n",
      "                    \"percentage_change_24h\": -1.25538577524969,\n",
      "                    \"percentage_change_7d\": -5.44835041740082,\n",
      "                    \"percent_change_1h\": 2.09031331499243,\n",
      "                    \"percent_change_24h\": -1.25538577524969,\n",
      "                    \"percent_change_7d\": -5.44835041740082\n",
      "                },\n",
      "                \"CAD\": {\n",
      "                    \"price\": 1325.749392,\n",
      "                    \"volume_24h\": 46803607645.626,\n",
      "                    \"market_cap\": 150912485592.394,\n",
      "                    \"percent_change_1h\": 2.09031331499243,\n",
      "                    \"percent_change_24h\": -1.25538577524969,\n",
      "                    \"percent_change_7d\": -5.44835041740082\n",
      "                }\n",
      "            },\n",
      "            \"last_updated\": 1610504627\n",
      "        }\n",
      "    },\n",
      "    \"metadata\": {\n",
      "        \"timestamp\": 1610504627,\n",
      "        \"num_cryptocurrencies\": 1386,\n",
      "        \"error\": null\n",
      "    }\n",
      "}\n"
     ]
    }
   ],
   "source": [
    "print(eth_data)\n",
    "eth_load=json.loads(eth_data)\n",
    "Eth_CAD=eth_load['data']['1027']['quotes']['CAD']['price']"
   ]
  },
  {
   "cell_type": "code",
   "execution_count": 13,
   "metadata": {},
   "outputs": [
    {
     "data": {
      "text/plain": [
       "{'data': {'1': {'id': 1,\n",
       "   'name': 'Bitcoin',\n",
       "   'symbol': 'BTC',\n",
       "   'website_slug': 'bitcoin',\n",
       "   'rank': 1,\n",
       "   'circulating_supply': 18598775,\n",
       "   'total_supply': 18598775,\n",
       "   'max_supply': 21000000,\n",
       "   'quotes': {'USD': {'price': 33431.0,\n",
       "     'volume_24h': 67430730759,\n",
       "     'market_cap': 619643204041,\n",
       "     'percentage_change_1h': 1.22471979475424,\n",
       "     'percentage_change_24h': -1.45760801628995,\n",
       "     'percentage_change_7d': -1.91088541137448,\n",
       "     'percent_change_1h': 1.22471979475424,\n",
       "     'percent_change_24h': -1.45760801628995,\n",
       "     'percent_change_7d': -1.91088541137448},\n",
       "    'CAD': {'price': 42484.1148,\n",
       "     'volume_24h': 85690972648.5372,\n",
       "     'market_cap': 787442583695.302,\n",
       "     'percent_change_1h': 1.22471979475424,\n",
       "     'percent_change_24h': -1.45760801628995,\n",
       "     'percent_change_7d': -1.91088541137448}},\n",
       "   'last_updated': 1610504547}},\n",
       " 'metadata': {'timestamp': 1610504547,\n",
       "  'num_cryptocurrencies': 1386,\n",
       "  'error': None}}"
      ]
     },
     "execution_count": 13,
     "metadata": {},
     "output_type": "execute_result"
    }
   ],
   "source": [
    "#fetchng btc price\n",
    "btc_request=requests.get(btc_api)\n",
    "btc_content=btc_request.content\n",
    "btc_price=btc_request.json()\n",
    "btc_data=json.dumps(btc_price,indent=4)\n",
    "\n",
    "btc_load=json.loads(btc_data)\n",
    "\n",
    "btc_CAD=btc_load['data']['1']['quotes']['CAD']['price']\n",
    "btc_load"
   ]
  },
  {
   "cell_type": "code",
   "execution_count": 14,
   "metadata": {},
   "outputs": [
    {
     "name": "stdout",
     "output_type": "stream",
     "text": [
      "The current value of your 1.2 BTC is $50980.94\n",
      "The current value of your 5.3 ETH is $7026.47\n"
     ]
    }
   ],
   "source": [
    "#showing current value of my crypto\n",
    "my_btc_value=my_btc*btc_CAD\n",
    "print(f\"The current value of your {my_btc} BTC is ${my_btc_value:0.2f}\")\n",
    "my_eth_value=my_eth*Eth_CAD\n",
    "print(f\"The current value of your {my_eth} ETH is ${my_eth_value:0.2f}\")\n",
    "total_crypto=my_btc_value+my_eth_value"
   ]
  },
  {
   "cell_type": "code",
   "execution_count": 224,
   "metadata": {},
   "outputs": [
    {
     "data": {
      "text/plain": [
       "True"
      ]
     },
     "execution_count": 224,
     "metadata": {},
     "output_type": "execute_result"
    }
   ],
   "source": [
    "load_dotenv()\n"
   ]
  },
  {
   "cell_type": "code",
   "execution_count": 28,
   "metadata": {},
   "outputs": [],
   "source": [
    "#declaring my api_key and secret key\n",
    "key=os.getenv('api_key')\n",
    "secret=os.getenv('secret_key')"
   ]
  },
  {
   "cell_type": "code",
   "execution_count": 29,
   "metadata": {},
   "outputs": [
    {
     "name": "stdout",
     "output_type": "stream",
     "text": [
      "PK6LSEON7GI2M843HE7X SIM7FLtE3DzMzZtKxHRJYZjL7SrZRE9iXEGrYT7V\n"
     ]
    }
   ],
   "source": [
    "print(key,secret)"
   ]
  },
  {
   "cell_type": "code",
   "execution_count": 30,
   "metadata": {},
   "outputs": [],
   "source": [
    "#calling the api\n",
    "alpapi = tradeapi.REST(\n",
    "    key,\n",
    "    secret,\n",
    "    api_version=\"v2\")"
   ]
  },
  {
   "cell_type": "code",
   "execution_count": 31,
   "metadata": {},
   "outputs": [],
   "source": [
    "today = pd.Timestamp(\"2021-01-05\", tz=\"America/New_York\").isoformat()"
   ]
  },
  {
   "cell_type": "code",
   "execution_count": 32,
   "metadata": {},
   "outputs": [],
   "source": [
    "tickers = [\"AGG\", \"SPY\"]"
   ]
  },
  {
   "cell_type": "code",
   "execution_count": 33,
   "metadata": {},
   "outputs": [],
   "source": [
    "timeframe = \"1D\""
   ]
  },
  {
   "cell_type": "code",
   "execution_count": 34,
   "metadata": {},
   "outputs": [
    {
     "data": {
      "text/html": [
       "<div>\n",
       "<style scoped>\n",
       "    .dataframe tbody tr th:only-of-type {\n",
       "        vertical-align: middle;\n",
       "    }\n",
       "\n",
       "    .dataframe tbody tr th {\n",
       "        vertical-align: top;\n",
       "    }\n",
       "\n",
       "    .dataframe thead tr th {\n",
       "        text-align: left;\n",
       "    }\n",
       "\n",
       "    .dataframe thead tr:last-of-type th {\n",
       "        text-align: right;\n",
       "    }\n",
       "</style>\n",
       "<table border=\"1\" class=\"dataframe\">\n",
       "  <thead>\n",
       "    <tr>\n",
       "      <th></th>\n",
       "      <th colspan=\"5\" halign=\"left\">AGG</th>\n",
       "      <th colspan=\"5\" halign=\"left\">SPY</th>\n",
       "    </tr>\n",
       "    <tr>\n",
       "      <th></th>\n",
       "      <th>open</th>\n",
       "      <th>high</th>\n",
       "      <th>low</th>\n",
       "      <th>close</th>\n",
       "      <th>volume</th>\n",
       "      <th>open</th>\n",
       "      <th>high</th>\n",
       "      <th>low</th>\n",
       "      <th>close</th>\n",
       "      <th>volume</th>\n",
       "    </tr>\n",
       "    <tr>\n",
       "      <th>time</th>\n",
       "      <th></th>\n",
       "      <th></th>\n",
       "      <th></th>\n",
       "      <th></th>\n",
       "      <th></th>\n",
       "      <th></th>\n",
       "      <th></th>\n",
       "      <th></th>\n",
       "      <th></th>\n",
       "      <th></th>\n",
       "    </tr>\n",
       "  </thead>\n",
       "  <tbody>\n",
       "    <tr>\n",
       "      <th>2021-01-05 00:00:00-05:00</th>\n",
       "      <td>118.06</td>\n",
       "      <td>118.06</td>\n",
       "      <td>117.75</td>\n",
       "      <td>117.915</td>\n",
       "      <td>5915389</td>\n",
       "      <td>368.1</td>\n",
       "      <td>372.5</td>\n",
       "      <td>368.05</td>\n",
       "      <td>371.32</td>\n",
       "      <td>53668865</td>\n",
       "    </tr>\n",
       "  </tbody>\n",
       "</table>\n",
       "</div>"
      ],
      "text/plain": [
       "                              AGG                                      SPY  \\\n",
       "                             open    high     low    close   volume   open   \n",
       "time                                                                         \n",
       "2021-01-05 00:00:00-05:00  118.06  118.06  117.75  117.915  5915389  368.1   \n",
       "\n",
       "                                                            \n",
       "                            high     low   close    volume  \n",
       "time                                                        \n",
       "2021-01-05 00:00:00-05:00  372.5  368.05  371.32  53668865  "
      ]
     },
     "execution_count": 34,
     "metadata": {},
     "output_type": "execute_result"
    }
   ],
   "source": [
    "df_portfolio = alpapi.get_barset(\n",
    "    tickers,\n",
    "    timeframe,\n",
    "    start = today,\n",
    "    end = today\n",
    ").df\n",
    "\n",
    "df_portfolio"
   ]
  },
  {
   "cell_type": "code",
   "execution_count": 35,
   "metadata": {},
   "outputs": [],
   "source": [
    "#declaring both agg and spy closing prices\n",
    "\n",
    "agg_close=df_portfolio['AGG']['close'][0]\n",
    "spy_close=df_portfolio['SPY']['close'][0]"
   ]
  },
  {
   "cell_type": "code",
   "execution_count": 36,
   "metadata": {},
   "outputs": [
    {
     "name": "stdout",
     "output_type": "stream",
     "text": [
      "Current AGG closing price: $117.915\n",
      "Current SPY closing price: $371.32\n"
     ]
    }
   ],
   "source": [
    "print(f\"Current AGG closing price: ${agg_close}\")\n",
    "print(f\"Current SPY closing price: ${spy_close}\")"
   ]
  },
  {
   "cell_type": "code",
   "execution_count": 37,
   "metadata": {},
   "outputs": [],
   "source": [
    "#current share holdings\n",
    "my_agg_shares=200\n",
    "my_spy_shares=50"
   ]
  },
  {
   "cell_type": "code",
   "execution_count": 38,
   "metadata": {},
   "outputs": [],
   "source": [
    "#value of my shares\n",
    "agg_value=agg_close*my_agg_shares\n",
    "spy_value=spy_close*my_spy_shares"
   ]
  },
  {
   "cell_type": "code",
   "execution_count": 39,
   "metadata": {},
   "outputs": [
    {
     "name": "stdout",
     "output_type": "stream",
     "text": [
      "The current value of your 50 SPY shares is $18566.00\n",
      "The current value of your 200 AGG shares is $23583.00\n"
     ]
    }
   ],
   "source": [
    "total_share_value=agg_value+spy_value\n",
    "print(f\"The current value of your {my_spy_shares} SPY shares is ${spy_value:0.2f}\")\n",
    "print(f\"The current value of your {my_agg_shares} AGG shares is ${agg_value:0.2f}\")"
   ]
  },
  {
   "cell_type": "code",
   "execution_count": 40,
   "metadata": {},
   "outputs": [],
   "source": [
    "#savings health analysis"
   ]
  },
  {
   "cell_type": "code",
   "execution_count": 41,
   "metadata": {},
   "outputs": [],
   "source": [
    "#declaring my monthly income: good to have idea for my emergency funds will be\n",
    "monthly_income=12000\n",
    "data = {'Amount':[total_crypto, total_share_value]}"
   ]
  },
  {
   "cell_type": "code",
   "execution_count": 42,
   "metadata": {},
   "outputs": [
    {
     "data": {
      "text/plain": [
       "{'Amount': [58007.409537600004, 42149.0]}"
      ]
     },
     "execution_count": 42,
     "metadata": {},
     "output_type": "execute_result"
    }
   ],
   "source": [
    "data"
   ]
  },
  {
   "cell_type": "code",
   "execution_count": 43,
   "metadata": {},
   "outputs": [],
   "source": [
    "#creating a datframe for our savings\n",
    "df_savings=pd.DataFrame(data,index=['crypto','shares'])"
   ]
  },
  {
   "cell_type": "code",
   "execution_count": 45,
   "metadata": {},
   "outputs": [
    {
     "data": {
      "text/html": [
       "<div>\n",
       "<style scoped>\n",
       "    .dataframe tbody tr th:only-of-type {\n",
       "        vertical-align: middle;\n",
       "    }\n",
       "\n",
       "    .dataframe tbody tr th {\n",
       "        vertical-align: top;\n",
       "    }\n",
       "\n",
       "    .dataframe thead th {\n",
       "        text-align: right;\n",
       "    }\n",
       "</style>\n",
       "<table border=\"1\" class=\"dataframe\">\n",
       "  <thead>\n",
       "    <tr style=\"text-align: right;\">\n",
       "      <th></th>\n",
       "      <th>Amount</th>\n",
       "    </tr>\n",
       "  </thead>\n",
       "  <tbody>\n",
       "    <tr>\n",
       "      <th>crypto</th>\n",
       "      <td>58007.409538</td>\n",
       "    </tr>\n",
       "    <tr>\n",
       "      <th>shares</th>\n",
       "      <td>42149.000000</td>\n",
       "    </tr>\n",
       "  </tbody>\n",
       "</table>\n",
       "</div>"
      ],
      "text/plain": [
       "              Amount\n",
       "crypto  58007.409538\n",
       "shares  42149.000000"
      ]
     },
     "execution_count": 45,
     "metadata": {},
     "output_type": "execute_result"
    }
   ],
   "source": [
    "df_savings"
   ]
  },
  {
   "cell_type": "code",
   "execution_count": 242,
   "metadata": {},
   "outputs": [
    {
     "data": {
      "text/plain": [
       "array([<AxesSubplot:ylabel='Amount'>], dtype=object)"
      ]
     },
     "execution_count": 242,
     "metadata": {},
     "output_type": "execute_result"
    },
    {
     "data": {
      "image/png": "[encoded data removed]",
      "text/plain": [
       "<Figure size 432x288 with 1 Axes>"
      ]
     },
     "metadata": {},
     "output_type": "display_data"
    }
   ],
   "source": [
    "\n",
    "df_savings.plot.pie(subplots=True)"
   ]
  },
  {
   "cell_type": "code",
   "execution_count": 272,
   "metadata": {},
   "outputs": [
    {
     "name": "stdout",
     "output_type": "stream",
     "text": [
      "36000 102868.1542255\n"
     ]
    }
   ],
   "source": [
    "# Set ideal emergency fund\n",
    "emergency_fund = monthly_income * 3\n",
    "total_savings=total_crypto+total_share_value#we can also declare df_savings.sum(), i chose to go this route\n",
    "print(emergency_fund,total_savings)\n"
   ]
  },
  {
   "cell_type": "code",
   "execution_count": 273,
   "metadata": {},
   "outputs": [
    {
     "name": "stdout",
     "output_type": "stream",
     "text": [
      "hello! Congratulations, your savings are on Steroids\n"
     ]
    }
   ],
   "source": [
    "#simple algorithmic return to tell our clients how well their present savings health is\n",
    "if total_savings>emergency_fund:\n",
    "    print('hello! Congratulations, your savings are on Steroids')\n",
    "elif total_savings==emergency_fund:\n",
    "    print('great achievemts!')\n",
    "elif total_savings<emergency_fund:\n",
    "    short_on=emergency_fund-total_savings\n",
    "    print('you could do more, here is how much MORE',short_on)"
   ]
  },
  {
   "cell_type": "code",
   "execution_count": 276,
   "metadata": {},
   "outputs": [],
   "source": [
    "\n",
    "# Set start and end dates of five years back from today.\n",
    "# Sample results may vary from the solution based on the time frame chosen\n",
    "start_date = pd.Timestamp('2015-08-07', tz='America/New_York').isoformat()\n",
    "end_date = pd.Timestamp('2020-08-07', tz='America/New_York').isoformat()"
   ]
  },
  {
   "cell_type": "code",
   "execution_count": 277,
   "metadata": {},
   "outputs": [
    {
     "data": {
      "text/html": [
       "<div>\n",
       "<style scoped>\n",
       "    .dataframe tbody tr th:only-of-type {\n",
       "        vertical-align: middle;\n",
       "    }\n",
       "\n",
       "    .dataframe tbody tr th {\n",
       "        vertical-align: top;\n",
       "    }\n",
       "\n",
       "    .dataframe thead tr th {\n",
       "        text-align: left;\n",
       "    }\n",
       "\n",
       "    .dataframe thead tr:last-of-type th {\n",
       "        text-align: right;\n",
       "    }\n",
       "</style>\n",
       "<table border=\"1\" class=\"dataframe\">\n",
       "  <thead>\n",
       "    <tr>\n",
       "      <th></th>\n",
       "      <th colspan=\"5\" halign=\"left\">AGG</th>\n",
       "      <th colspan=\"5\" halign=\"left\">SPY</th>\n",
       "    </tr>\n",
       "    <tr>\n",
       "      <th></th>\n",
       "      <th>open</th>\n",
       "      <th>high</th>\n",
       "      <th>low</th>\n",
       "      <th>close</th>\n",
       "      <th>volume</th>\n",
       "      <th>open</th>\n",
       "      <th>high</th>\n",
       "      <th>low</th>\n",
       "      <th>close</th>\n",
       "      <th>volume</th>\n",
       "    </tr>\n",
       "    <tr>\n",
       "      <th>time</th>\n",
       "      <th></th>\n",
       "      <th></th>\n",
       "      <th></th>\n",
       "      <th></th>\n",
       "      <th></th>\n",
       "      <th></th>\n",
       "      <th></th>\n",
       "      <th></th>\n",
       "      <th></th>\n",
       "      <th></th>\n",
       "    </tr>\n",
       "  </thead>\n",
       "  <tbody>\n",
       "    <tr>\n",
       "      <th>2015-08-07 00:00:00-04:00</th>\n",
       "      <td>109.14</td>\n",
       "      <td>109.2750</td>\n",
       "      <td>109.035</td>\n",
       "      <td>109.21</td>\n",
       "      <td>2041167.0</td>\n",
       "      <td>208.16</td>\n",
       "      <td>208.34</td>\n",
       "      <td>206.87</td>\n",
       "      <td>207.93</td>\n",
       "      <td>87669782</td>\n",
       "    </tr>\n",
       "    <tr>\n",
       "      <th>2015-08-10 00:00:00-04:00</th>\n",
       "      <td>109.15</td>\n",
       "      <td>109.1700</td>\n",
       "      <td>108.920</td>\n",
       "      <td>109.06</td>\n",
       "      <td>1149778.0</td>\n",
       "      <td>209.28</td>\n",
       "      <td>210.67</td>\n",
       "      <td>209.28</td>\n",
       "      <td>210.58</td>\n",
       "      <td>66755890</td>\n",
       "    </tr>\n",
       "    <tr>\n",
       "      <th>2015-08-11 00:00:00-04:00</th>\n",
       "      <td>109.42</td>\n",
       "      <td>109.5765</td>\n",
       "      <td>109.284</td>\n",
       "      <td>109.42</td>\n",
       "      <td>1420907.0</td>\n",
       "      <td>208.98</td>\n",
       "      <td>209.47</td>\n",
       "      <td>207.76</td>\n",
       "      <td>208.63</td>\n",
       "      <td>88424557</td>\n",
       "    </tr>\n",
       "    <tr>\n",
       "      <th>2015-08-12 00:00:00-04:00</th>\n",
       "      <td>109.55</td>\n",
       "      <td>109.7100</td>\n",
       "      <td>109.350</td>\n",
       "      <td>109.36</td>\n",
       "      <td>1468979.0</td>\n",
       "      <td>207.11</td>\n",
       "      <td>209.14</td>\n",
       "      <td>205.36</td>\n",
       "      <td>208.89</td>\n",
       "      <td>136171450</td>\n",
       "    </tr>\n",
       "    <tr>\n",
       "      <th>2015-08-13 00:00:00-04:00</th>\n",
       "      <td>109.36</td>\n",
       "      <td>109.3651</td>\n",
       "      <td>109.110</td>\n",
       "      <td>109.15</td>\n",
       "      <td>1465173.0</td>\n",
       "      <td>208.73</td>\n",
       "      <td>209.55</td>\n",
       "      <td>208.01</td>\n",
       "      <td>208.63</td>\n",
       "      <td>77197796</td>\n",
       "    </tr>\n",
       "  </tbody>\n",
       "</table>\n",
       "</div>"
      ],
      "text/plain": [
       "                              AGG                                        \\\n",
       "                             open      high      low   close     volume   \n",
       "time                                                                      \n",
       "2015-08-07 00:00:00-04:00  109.14  109.2750  109.035  109.21  2041167.0   \n",
       "2015-08-10 00:00:00-04:00  109.15  109.1700  108.920  109.06  1149778.0   \n",
       "2015-08-11 00:00:00-04:00  109.42  109.5765  109.284  109.42  1420907.0   \n",
       "2015-08-12 00:00:00-04:00  109.55  109.7100  109.350  109.36  1468979.0   \n",
       "2015-08-13 00:00:00-04:00  109.36  109.3651  109.110  109.15  1465173.0   \n",
       "\n",
       "                              SPY                                     \n",
       "                             open    high     low   close     volume  \n",
       "time                                                                  \n",
       "2015-08-07 00:00:00-04:00  208.16  208.34  206.87  207.93   87669782  \n",
       "2015-08-10 00:00:00-04:00  209.28  210.67  209.28  210.58   66755890  \n",
       "2015-08-11 00:00:00-04:00  208.98  209.47  207.76  208.63   88424557  \n",
       "2015-08-12 00:00:00-04:00  207.11  209.14  205.36  208.89  136171450  \n",
       "2015-08-13 00:00:00-04:00  208.73  209.55  208.01  208.63   77197796  "
      ]
     },
     "execution_count": 277,
     "metadata": {},
     "output_type": "execute_result"
    }
   ],
   "source": [
    "df_port = alpapi.get_barset(\n",
    "    tickers,\n",
    "    timeframe,\n",
    "    start = start_date,\n",
    "    end = end_date\n",
    ").df\n",
    "\n",
    "df_port.head()"
   ]
  },
  {
   "cell_type": "code",
   "execution_count": 288,
   "metadata": {},
   "outputs": [],
   "source": [
    "# Configuring a Monte Carlo simulation to forecast thirty years cumulative returns\n",
    "MC_thirty_year = MCSimulation(\n",
    "    portfolio_data = df_port,\n",
    "    weights = [.40,.60],\n",
    "    num_simulation = 500,\n",
    "    num_trading_days = 252*30\n",
    ")"
   ]
  },
  {
   "cell_type": "code",
   "execution_count": 293,
   "metadata": {},
   "outputs": [
    {
     "data": {
      "text/html": [
       "<div>\n",
       "<style scoped>\n",
       "    .dataframe tbody tr th:only-of-type {\n",
       "        vertical-align: middle;\n",
       "    }\n",
       "\n",
       "    .dataframe tbody tr th {\n",
       "        vertical-align: top;\n",
       "    }\n",
       "\n",
       "    .dataframe thead tr th {\n",
       "        text-align: left;\n",
       "    }\n",
       "\n",
       "    .dataframe thead tr:last-of-type th {\n",
       "        text-align: right;\n",
       "    }\n",
       "</style>\n",
       "<table border=\"1\" class=\"dataframe\">\n",
       "  <thead>\n",
       "    <tr>\n",
       "      <th></th>\n",
       "      <th colspan=\"6\" halign=\"left\">AGG</th>\n",
       "      <th colspan=\"6\" halign=\"left\">SPY</th>\n",
       "    </tr>\n",
       "    <tr>\n",
       "      <th></th>\n",
       "      <th>open</th>\n",
       "      <th>high</th>\n",
       "      <th>low</th>\n",
       "      <th>close</th>\n",
       "      <th>volume</th>\n",
       "      <th>daily_return</th>\n",
       "      <th>open</th>\n",
       "      <th>high</th>\n",
       "      <th>low</th>\n",
       "      <th>close</th>\n",
       "      <th>volume</th>\n",
       "      <th>daily_return</th>\n",
       "    </tr>\n",
       "    <tr>\n",
       "      <th>time</th>\n",
       "      <th></th>\n",
       "      <th></th>\n",
       "      <th></th>\n",
       "      <th></th>\n",
       "      <th></th>\n",
       "      <th></th>\n",
       "      <th></th>\n",
       "      <th></th>\n",
       "      <th></th>\n",
       "      <th></th>\n",
       "      <th></th>\n",
       "      <th></th>\n",
       "    </tr>\n",
       "  </thead>\n",
       "  <tbody>\n",
       "    <tr>\n",
       "      <th>2015-08-07 00:00:00-04:00</th>\n",
       "      <td>109.14</td>\n",
       "      <td>109.2750</td>\n",
       "      <td>109.035</td>\n",
       "      <td>109.21</td>\n",
       "      <td>2041167.0</td>\n",
       "      <td>NaN</td>\n",
       "      <td>208.16</td>\n",
       "      <td>208.34</td>\n",
       "      <td>206.87</td>\n",
       "      <td>207.93</td>\n",
       "      <td>87669782</td>\n",
       "      <td>NaN</td>\n",
       "    </tr>\n",
       "    <tr>\n",
       "      <th>2015-08-10 00:00:00-04:00</th>\n",
       "      <td>109.15</td>\n",
       "      <td>109.1700</td>\n",
       "      <td>108.920</td>\n",
       "      <td>109.06</td>\n",
       "      <td>1149778.0</td>\n",
       "      <td>-0.001374</td>\n",
       "      <td>209.28</td>\n",
       "      <td>210.67</td>\n",
       "      <td>209.28</td>\n",
       "      <td>210.58</td>\n",
       "      <td>66755890</td>\n",
       "      <td>0.012745</td>\n",
       "    </tr>\n",
       "    <tr>\n",
       "      <th>2015-08-11 00:00:00-04:00</th>\n",
       "      <td>109.42</td>\n",
       "      <td>109.5765</td>\n",
       "      <td>109.284</td>\n",
       "      <td>109.42</td>\n",
       "      <td>1420907.0</td>\n",
       "      <td>0.003301</td>\n",
       "      <td>208.98</td>\n",
       "      <td>209.47</td>\n",
       "      <td>207.76</td>\n",
       "      <td>208.63</td>\n",
       "      <td>88424557</td>\n",
       "      <td>-0.009260</td>\n",
       "    </tr>\n",
       "    <tr>\n",
       "      <th>2015-08-12 00:00:00-04:00</th>\n",
       "      <td>109.55</td>\n",
       "      <td>109.7100</td>\n",
       "      <td>109.350</td>\n",
       "      <td>109.36</td>\n",
       "      <td>1468979.0</td>\n",
       "      <td>-0.000548</td>\n",
       "      <td>207.11</td>\n",
       "      <td>209.14</td>\n",
       "      <td>205.36</td>\n",
       "      <td>208.89</td>\n",
       "      <td>136171450</td>\n",
       "      <td>0.001246</td>\n",
       "    </tr>\n",
       "    <tr>\n",
       "      <th>2015-08-13 00:00:00-04:00</th>\n",
       "      <td>109.36</td>\n",
       "      <td>109.3651</td>\n",
       "      <td>109.110</td>\n",
       "      <td>109.15</td>\n",
       "      <td>1465173.0</td>\n",
       "      <td>-0.001920</td>\n",
       "      <td>208.73</td>\n",
       "      <td>209.55</td>\n",
       "      <td>208.01</td>\n",
       "      <td>208.63</td>\n",
       "      <td>77197796</td>\n",
       "      <td>-0.001245</td>\n",
       "    </tr>\n",
       "  </tbody>\n",
       "</table>\n",
       "</div>"
      ],
      "text/plain": [
       "                              AGG                                        \\\n",
       "                             open      high      low   close     volume   \n",
       "time                                                                      \n",
       "2015-08-07 00:00:00-04:00  109.14  109.2750  109.035  109.21  2041167.0   \n",
       "2015-08-10 00:00:00-04:00  109.15  109.1700  108.920  109.06  1149778.0   \n",
       "2015-08-11 00:00:00-04:00  109.42  109.5765  109.284  109.42  1420907.0   \n",
       "2015-08-12 00:00:00-04:00  109.55  109.7100  109.350  109.36  1468979.0   \n",
       "2015-08-13 00:00:00-04:00  109.36  109.3651  109.110  109.15  1465173.0   \n",
       "\n",
       "                                           SPY                          \\\n",
       "                          daily_return    open    high     low   close   \n",
       "time                                                                     \n",
       "2015-08-07 00:00:00-04:00          NaN  208.16  208.34  206.87  207.93   \n",
       "2015-08-10 00:00:00-04:00    -0.001374  209.28  210.67  209.28  210.58   \n",
       "2015-08-11 00:00:00-04:00     0.003301  208.98  209.47  207.76  208.63   \n",
       "2015-08-12 00:00:00-04:00    -0.000548  207.11  209.14  205.36  208.89   \n",
       "2015-08-13 00:00:00-04:00    -0.001920  208.73  209.55  208.01  208.63   \n",
       "\n",
       "                                                   \n",
       "                              volume daily_return  \n",
       "time                                               \n",
       "2015-08-07 00:00:00-04:00   87669782          NaN  \n",
       "2015-08-10 00:00:00-04:00   66755890     0.012745  \n",
       "2015-08-11 00:00:00-04:00   88424557    -0.009260  \n",
       "2015-08-12 00:00:00-04:00  136171450     0.001246  \n",
       "2015-08-13 00:00:00-04:00   77197796    -0.001245  "
      ]
     },
     "execution_count": 293,
     "metadata": {},
     "output_type": "execute_result"
    }
   ],
   "source": [
    "#we view our portfolio for the next 30yrs\n",
    "MC_thirty_year.portfolio_data.head()"
   ]
  },
  {
   "cell_type": "code",
   "execution_count": 299,
   "metadata": {},
   "outputs": [
    {
     "name": "stdout",
     "output_type": "stream",
     "text": [
      "Running Monte Carlo simulation number 0.\n",
      "Running Monte Carlo simulation number 10.\n",
      "Running Monte Carlo simulation number 20.\n",
      "Running Monte Carlo simulation number 30.\n",
      "Running Monte Carlo simulation number 40.\n",
      "Running Monte Carlo simulation number 50.\n",
      "Running Monte Carlo simulation number 60.\n",
      "Running Monte Carlo simulation number 70.\n",
      "Running Monte Carlo simulation number 80.\n",
      "Running Monte Carlo simulation number 90.\n",
      "Running Monte Carlo simulation number 100.\n",
      "Running Monte Carlo simulation number 110.\n",
      "Running Monte Carlo simulation number 120.\n",
      "Running Monte Carlo simulation number 130.\n",
      "Running Monte Carlo simulation number 140.\n",
      "Running Monte Carlo simulation number 150.\n",
      "Running Monte Carlo simulation number 160.\n",
      "Running Monte Carlo simulation number 170.\n",
      "Running Monte Carlo simulation number 180.\n",
      "Running Monte Carlo simulation number 190.\n",
      "Running Monte Carlo simulation number 200.\n",
      "Running Monte Carlo simulation number 210.\n",
      "Running Monte Carlo simulation number 220.\n",
      "Running Monte Carlo simulation number 230.\n",
      "Running Monte Carlo simulation number 240.\n",
      "Running Monte Carlo simulation number 250.\n",
      "Running Monte Carlo simulation number 260.\n",
      "Running Monte Carlo simulation number 270.\n",
      "Running Monte Carlo simulation number 280.\n",
      "Running Monte Carlo simulation number 290.\n",
      "Running Monte Carlo simulation number 300.\n",
      "Running Monte Carlo simulation number 310.\n",
      "Running Monte Carlo simulation number 320.\n",
      "Running Monte Carlo simulation number 330.\n",
      "Running Monte Carlo simulation number 340.\n",
      "Running Monte Carlo simulation number 350.\n",
      "Running Monte Carlo simulation number 360.\n",
      "Running Monte Carlo simulation number 370.\n",
      "Running Monte Carlo simulation number 380.\n",
      "Running Monte Carlo simulation number 390.\n",
      "Running Monte Carlo simulation number 400.\n",
      "Running Monte Carlo simulation number 410.\n",
      "Running Monte Carlo simulation number 420.\n",
      "Running Monte Carlo simulation number 430.\n",
      "Running Monte Carlo simulation number 440.\n",
      "Running Monte Carlo simulation number 450.\n",
      "Running Monte Carlo simulation number 460.\n",
      "Running Monte Carlo simulation number 470.\n",
      "Running Monte Carlo simulation number 480.\n",
      "Running Monte Carlo simulation number 490.\n"
     ]
    },
    {
     "data": {
      "text/html": [
       "<div>\n",
       "<style scoped>\n",
       "    .dataframe tbody tr th:only-of-type {\n",
       "        vertical-align: middle;\n",
       "    }\n",
       "\n",
       "    .dataframe tbody tr th {\n",
       "        vertical-align: top;\n",
       "    }\n",
       "\n",
       "    .dataframe thead th {\n",
       "        text-align: right;\n",
       "    }\n",
       "</style>\n",
       "<table border=\"1\" class=\"dataframe\">\n",
       "  <thead>\n",
       "    <tr style=\"text-align: right;\">\n",
       "      <th></th>\n",
       "      <th>0</th>\n",
       "      <th>1</th>\n",
       "      <th>2</th>\n",
       "      <th>3</th>\n",
       "      <th>4</th>\n",
       "      <th>5</th>\n",
       "      <th>6</th>\n",
       "      <th>7</th>\n",
       "      <th>8</th>\n",
       "      <th>9</th>\n",
       "      <th>...</th>\n",
       "      <th>490</th>\n",
       "      <th>491</th>\n",
       "      <th>492</th>\n",
       "      <th>493</th>\n",
       "      <th>494</th>\n",
       "      <th>495</th>\n",
       "      <th>496</th>\n",
       "      <th>497</th>\n",
       "      <th>498</th>\n",
       "      <th>499</th>\n",
       "    </tr>\n",
       "  </thead>\n",
       "  <tbody>\n",
       "    <tr>\n",
       "      <th>0</th>\n",
       "      <td>1.000000</td>\n",
       "      <td>1.000000</td>\n",
       "      <td>1.000000</td>\n",
       "      <td>1.000000</td>\n",
       "      <td>1.000000</td>\n",
       "      <td>1.000000</td>\n",
       "      <td>1.000000</td>\n",
       "      <td>1.000000</td>\n",
       "      <td>1.000000</td>\n",
       "      <td>1.000000</td>\n",
       "      <td>...</td>\n",
       "      <td>1.000000</td>\n",
       "      <td>1.000000</td>\n",
       "      <td>1.000000</td>\n",
       "      <td>1.000000</td>\n",
       "      <td>1.000000</td>\n",
       "      <td>1.000000</td>\n",
       "      <td>1.000000</td>\n",
       "      <td>1.000000</td>\n",
       "      <td>1.000000</td>\n",
       "      <td>1.000000</td>\n",
       "    </tr>\n",
       "    <tr>\n",
       "      <th>1</th>\n",
       "      <td>1.004316</td>\n",
       "      <td>1.009136</td>\n",
       "      <td>0.999026</td>\n",
       "      <td>1.010772</td>\n",
       "      <td>1.004376</td>\n",
       "      <td>1.000500</td>\n",
       "      <td>0.998851</td>\n",
       "      <td>1.001570</td>\n",
       "      <td>0.991601</td>\n",
       "      <td>1.011335</td>\n",
       "      <td>...</td>\n",
       "      <td>1.016586</td>\n",
       "      <td>0.990390</td>\n",
       "      <td>1.006861</td>\n",
       "      <td>1.007805</td>\n",
       "      <td>0.991568</td>\n",
       "      <td>0.996148</td>\n",
       "      <td>1.004142</td>\n",
       "      <td>0.992826</td>\n",
       "      <td>0.997780</td>\n",
       "      <td>0.993519</td>\n",
       "    </tr>\n",
       "    <tr>\n",
       "      <th>2</th>\n",
       "      <td>1.017679</td>\n",
       "      <td>1.014034</td>\n",
       "      <td>1.000692</td>\n",
       "      <td>1.004454</td>\n",
       "      <td>0.997076</td>\n",
       "      <td>1.008411</td>\n",
       "      <td>0.994069</td>\n",
       "      <td>1.007819</td>\n",
       "      <td>1.008312</td>\n",
       "      <td>1.012620</td>\n",
       "      <td>...</td>\n",
       "      <td>1.020026</td>\n",
       "      <td>0.998018</td>\n",
       "      <td>0.999252</td>\n",
       "      <td>1.013166</td>\n",
       "      <td>0.988399</td>\n",
       "      <td>1.000715</td>\n",
       "      <td>0.998262</td>\n",
       "      <td>0.992322</td>\n",
       "      <td>1.008726</td>\n",
       "      <td>1.001385</td>\n",
       "    </tr>\n",
       "    <tr>\n",
       "      <th>3</th>\n",
       "      <td>1.019414</td>\n",
       "      <td>1.011944</td>\n",
       "      <td>1.011096</td>\n",
       "      <td>1.007436</td>\n",
       "      <td>1.003061</td>\n",
       "      <td>1.008403</td>\n",
       "      <td>0.982743</td>\n",
       "      <td>1.003733</td>\n",
       "      <td>1.018248</td>\n",
       "      <td>1.016158</td>\n",
       "      <td>...</td>\n",
       "      <td>1.022930</td>\n",
       "      <td>0.992183</td>\n",
       "      <td>1.005153</td>\n",
       "      <td>1.026925</td>\n",
       "      <td>0.996206</td>\n",
       "      <td>1.002588</td>\n",
       "      <td>0.989362</td>\n",
       "      <td>1.001911</td>\n",
       "      <td>0.999647</td>\n",
       "      <td>1.012030</td>\n",
       "    </tr>\n",
       "    <tr>\n",
       "      <th>4</th>\n",
       "      <td>1.028406</td>\n",
       "      <td>1.012011</td>\n",
       "      <td>1.008242</td>\n",
       "      <td>1.015114</td>\n",
       "      <td>0.999254</td>\n",
       "      <td>1.012290</td>\n",
       "      <td>0.969483</td>\n",
       "      <td>1.010724</td>\n",
       "      <td>1.015864</td>\n",
       "      <td>1.016319</td>\n",
       "      <td>...</td>\n",
       "      <td>1.024347</td>\n",
       "      <td>1.003746</td>\n",
       "      <td>1.000623</td>\n",
       "      <td>1.021194</td>\n",
       "      <td>1.003581</td>\n",
       "      <td>0.995241</td>\n",
       "      <td>0.993231</td>\n",
       "      <td>1.006447</td>\n",
       "      <td>0.998807</td>\n",
       "      <td>1.004553</td>\n",
       "    </tr>\n",
       "    <tr>\n",
       "      <th>...</th>\n",
       "      <td>...</td>\n",
       "      <td>...</td>\n",
       "      <td>...</td>\n",
       "      <td>...</td>\n",
       "      <td>...</td>\n",
       "      <td>...</td>\n",
       "      <td>...</td>\n",
       "      <td>...</td>\n",
       "      <td>...</td>\n",
       "      <td>...</td>\n",
       "      <td>...</td>\n",
       "      <td>...</td>\n",
       "      <td>...</td>\n",
       "      <td>...</td>\n",
       "      <td>...</td>\n",
       "      <td>...</td>\n",
       "      <td>...</td>\n",
       "      <td>...</td>\n",
       "      <td>...</td>\n",
       "      <td>...</td>\n",
       "      <td>...</td>\n",
       "    </tr>\n",
       "    <tr>\n",
       "      <th>7556</th>\n",
       "      <td>5.785741</td>\n",
       "      <td>8.345411</td>\n",
       "      <td>3.609318</td>\n",
       "      <td>4.560305</td>\n",
       "      <td>7.687593</td>\n",
       "      <td>14.398966</td>\n",
       "      <td>7.675224</td>\n",
       "      <td>6.493799</td>\n",
       "      <td>4.139149</td>\n",
       "      <td>9.597526</td>\n",
       "      <td>...</td>\n",
       "      <td>4.058248</td>\n",
       "      <td>15.921277</td>\n",
       "      <td>26.724754</td>\n",
       "      <td>15.300305</td>\n",
       "      <td>9.760276</td>\n",
       "      <td>3.234505</td>\n",
       "      <td>6.277273</td>\n",
       "      <td>4.453538</td>\n",
       "      <td>3.865594</td>\n",
       "      <td>4.993691</td>\n",
       "    </tr>\n",
       "    <tr>\n",
       "      <th>7557</th>\n",
       "      <td>5.848948</td>\n",
       "      <td>8.355194</td>\n",
       "      <td>3.589425</td>\n",
       "      <td>4.552555</td>\n",
       "      <td>7.686265</td>\n",
       "      <td>14.351590</td>\n",
       "      <td>7.637478</td>\n",
       "      <td>6.450860</td>\n",
       "      <td>4.134577</td>\n",
       "      <td>9.515975</td>\n",
       "      <td>...</td>\n",
       "      <td>4.060718</td>\n",
       "      <td>15.899431</td>\n",
       "      <td>26.497195</td>\n",
       "      <td>15.084447</td>\n",
       "      <td>9.664440</td>\n",
       "      <td>3.220051</td>\n",
       "      <td>6.266035</td>\n",
       "      <td>4.456282</td>\n",
       "      <td>3.881453</td>\n",
       "      <td>5.042992</td>\n",
       "    </tr>\n",
       "    <tr>\n",
       "      <th>7558</th>\n",
       "      <td>5.848436</td>\n",
       "      <td>8.346694</td>\n",
       "      <td>3.617343</td>\n",
       "      <td>4.545444</td>\n",
       "      <td>7.597081</td>\n",
       "      <td>14.372956</td>\n",
       "      <td>7.607127</td>\n",
       "      <td>6.502017</td>\n",
       "      <td>4.169039</td>\n",
       "      <td>9.508568</td>\n",
       "      <td>...</td>\n",
       "      <td>4.059840</td>\n",
       "      <td>15.980484</td>\n",
       "      <td>26.510643</td>\n",
       "      <td>15.112448</td>\n",
       "      <td>9.771321</td>\n",
       "      <td>3.240135</td>\n",
       "      <td>6.248171</td>\n",
       "      <td>4.461162</td>\n",
       "      <td>3.910650</td>\n",
       "      <td>5.071132</td>\n",
       "    </tr>\n",
       "    <tr>\n",
       "      <th>7559</th>\n",
       "      <td>5.823524</td>\n",
       "      <td>8.401577</td>\n",
       "      <td>3.608567</td>\n",
       "      <td>4.511308</td>\n",
       "      <td>7.677972</td>\n",
       "      <td>14.347104</td>\n",
       "      <td>7.605734</td>\n",
       "      <td>6.532405</td>\n",
       "      <td>4.154253</td>\n",
       "      <td>9.576004</td>\n",
       "      <td>...</td>\n",
       "      <td>4.060822</td>\n",
       "      <td>15.921599</td>\n",
       "      <td>26.290219</td>\n",
       "      <td>15.253758</td>\n",
       "      <td>9.862628</td>\n",
       "      <td>3.230693</td>\n",
       "      <td>6.280167</td>\n",
       "      <td>4.433311</td>\n",
       "      <td>3.942893</td>\n",
       "      <td>5.104810</td>\n",
       "    </tr>\n",
       "    <tr>\n",
       "      <th>7560</th>\n",
       "      <td>5.812471</td>\n",
       "      <td>8.423511</td>\n",
       "      <td>3.608206</td>\n",
       "      <td>4.536848</td>\n",
       "      <td>7.715056</td>\n",
       "      <td>14.290114</td>\n",
       "      <td>7.563947</td>\n",
       "      <td>6.533406</td>\n",
       "      <td>4.157307</td>\n",
       "      <td>9.614548</td>\n",
       "      <td>...</td>\n",
       "      <td>4.060385</td>\n",
       "      <td>16.224973</td>\n",
       "      <td>25.910140</td>\n",
       "      <td>15.188021</td>\n",
       "      <td>9.861494</td>\n",
       "      <td>3.219427</td>\n",
       "      <td>6.225813</td>\n",
       "      <td>4.410061</td>\n",
       "      <td>3.949120</td>\n",
       "      <td>5.142246</td>\n",
       "    </tr>\n",
       "  </tbody>\n",
       "</table>\n",
       "<p>7561 rows × 500 columns</p>\n",
       "</div>"
      ],
      "text/plain": [
       "           0         1         2         3         4          5         6    \\\n",
       "0     1.000000  1.000000  1.000000  1.000000  1.000000   1.000000  1.000000   \n",
       "1     1.004316  1.009136  0.999026  1.010772  1.004376   1.000500  0.998851   \n",
       "2     1.017679  1.014034  1.000692  1.004454  0.997076   1.008411  0.994069   \n",
       "3     1.019414  1.011944  1.011096  1.007436  1.003061   1.008403  0.982743   \n",
       "4     1.028406  1.012011  1.008242  1.015114  0.999254   1.012290  0.969483   \n",
       "...        ...       ...       ...       ...       ...        ...       ...   \n",
       "7556  5.785741  8.345411  3.609318  4.560305  7.687593  14.398966  7.675224   \n",
       "7557  5.848948  8.355194  3.589425  4.552555  7.686265  14.351590  7.637478   \n",
       "7558  5.848436  8.346694  3.617343  4.545444  7.597081  14.372956  7.607127   \n",
       "7559  5.823524  8.401577  3.608567  4.511308  7.677972  14.347104  7.605734   \n",
       "7560  5.812471  8.423511  3.608206  4.536848  7.715056  14.290114  7.563947   \n",
       "\n",
       "           7         8         9    ...       490        491        492  \\\n",
       "0     1.000000  1.000000  1.000000  ...  1.000000   1.000000   1.000000   \n",
       "1     1.001570  0.991601  1.011335  ...  1.016586   0.990390   1.006861   \n",
       "2     1.007819  1.008312  1.012620  ...  1.020026   0.998018   0.999252   \n",
       "3     1.003733  1.018248  1.016158  ...  1.022930   0.992183   1.005153   \n",
       "4     1.010724  1.015864  1.016319  ...  1.024347   1.003746   1.000623   \n",
       "...        ...       ...       ...  ...       ...        ...        ...   \n",
       "7556  6.493799  4.139149  9.597526  ...  4.058248  15.921277  26.724754   \n",
       "7557  6.450860  4.134577  9.515975  ...  4.060718  15.899431  26.497195   \n",
       "7558  6.502017  4.169039  9.508568  ...  4.059840  15.980484  26.510643   \n",
       "7559  6.532405  4.154253  9.576004  ...  4.060822  15.921599  26.290219   \n",
       "7560  6.533406  4.157307  9.614548  ...  4.060385  16.224973  25.910140   \n",
       "\n",
       "            493       494       495       496       497       498       499  \n",
       "0      1.000000  1.000000  1.000000  1.000000  1.000000  1.000000  1.000000  \n",
       "1      1.007805  0.991568  0.996148  1.004142  0.992826  0.997780  0.993519  \n",
       "2      1.013166  0.988399  1.000715  0.998262  0.992322  1.008726  1.001385  \n",
       "3      1.026925  0.996206  1.002588  0.989362  1.001911  0.999647  1.012030  \n",
       "4      1.021194  1.003581  0.995241  0.993231  1.006447  0.998807  1.004553  \n",
       "...         ...       ...       ...       ...       ...       ...       ...  \n",
       "7556  15.300305  9.760276  3.234505  6.277273  4.453538  3.865594  4.993691  \n",
       "7557  15.084447  9.664440  3.220051  6.266035  4.456282  3.881453  5.042992  \n",
       "7558  15.112448  9.771321  3.240135  6.248171  4.461162  3.910650  5.071132  \n",
       "7559  15.253758  9.862628  3.230693  6.280167  4.433311  3.942893  5.104810  \n",
       "7560  15.188021  9.861494  3.219427  6.225813  4.410061  3.949120  5.142246  \n",
       "\n",
       "[7561 rows x 500 columns]"
      ]
     },
     "execution_count": 299,
     "metadata": {},
     "output_type": "execute_result"
    }
   ],
   "source": [
    "MC_thirty_year.calc_cumulative_return()"
   ]
  },
  {
   "cell_type": "code",
   "execution_count": 300,
   "metadata": {},
   "outputs": [
    {
     "data": {
      "image/png": "[encoded data removed]",
      "text/plain": [
       "<Figure size 432x288 with 1 Axes>"
      ]
     },
     "metadata": {
      "needs_background": "light"
     },
     "output_type": "display_data"
    }
   ],
   "source": [
    "# Plot simulation outcomes\n",
    "line_plot = MC_thirty_year.plot_simulation()\n",
    "\n",
    "# Save the plot for future usage\n",
    "line_plot.get_figure().savefig(\"MC_fiveyear_sim_plot.png\", bbox_inches=\"tight\")"
   ]
  },
  {
   "cell_type": "code",
   "execution_count": 303,
   "metadata": {},
   "outputs": [
    {
     "data": {
      "image/png": "[encoded data removed]",
      "text/plain": [
       "<Figure size 432x288 with 1 Axes>"
      ]
     },
     "metadata": {
      "needs_background": "light"
     },
     "output_type": "display_data"
    }
   ],
   "source": [
    "# Plot probability distribution and confidence intervals\n",
    "dist_plot = MC_thirty_year.plot_distribution()\n",
    "\n",
    "# Save the plot for future usage\n",
    "dist_plot.get_figure().savefig('MC_fiveyear_dist_plot.png',bbox_inches='tight')"
   ]
  },
  {
   "cell_type": "code",
   "execution_count": 304,
   "metadata": {},
   "outputs": [
    {
     "name": "stdout",
     "output_type": "stream",
     "text": [
      "count           500.000000\n",
      "mean              9.438619\n",
      "std               6.350518\n",
      "min               0.565970\n",
      "25%               4.904949\n",
      "50%               7.556071\n",
      "75%              11.845131\n",
      "max              42.242082\n",
      "95% CI Lower      2.569586\n",
      "95% CI Upper     25.678740\n",
      "Name: 7560, dtype: float64\n"
     ]
    }
   ],
   "source": [
    "# Fetch summary statistics from the Monte Carlo simulation results\n",
    "tbl_sum_stat = MC_thirty_year.summarize_cumulative_return()\n",
    "\n",
    "# Print summary statistics\n",
    "print(tbl_sum_stat)"
   ]
  },
  {
   "cell_type": "code",
   "execution_count": 306,
   "metadata": {},
   "outputs": [
    {
     "name": "stdout",
     "output_type": "stream",
     "text": [
      "There is a 95% chance that an initial investment of $20,000 in the portfolio over the next 30 years will end within in the range of $51391.72 and $513574.8\n"
     ]
    }
   ],
   "source": [
    "#our confidence  level or the initial confidence or confidence interval\n",
    "ci_lower = round(tbl_sum_stat[8]*20000,2)\n",
    "ci_upper = round(tbl_sum_stat[9]*20000,2)\n",
    "\n",
    "# Print results\n",
    "print(f\"There is a 95% chance that an initial investment of $20,000 in the portfolio\"\n",
    "      f\" over the next 30 years will end within in the range of\"\n",
    "      f\" ${ci_lower} and ${ci_upper}\")"
   ]
  },
  {
   "cell_type": "code",
   "execution_count": 307,
   "metadata": {},
   "outputs": [],
   "source": [
    "#based on the 50% initial investment we ewould do a little math\n",
    "ini_50=20000/2"
   ]
  },
  {
   "cell_type": "code",
   "execution_count": 308,
   "metadata": {},
   "outputs": [
    {
     "name": "stdout",
     "output_type": "stream",
     "text": [
      "There is a 95% chance that an initial investment of 50% in the portfolio over the next 30 years will end within in the range of $25695.86 and $256787.4\n"
     ]
    }
   ],
   "source": [
    "ci_lower_50 = round(tbl_sum_stat[8]*ini_50,2)\n",
    "ci_upper_50 = round(tbl_sum_stat[9]*ini_50,2)\n",
    "# Print results\n",
    "print(f\"There is a 95% chance that an initial investment of 50% in the portfolio\"\n",
    "      f\" over the next 30 years will end within in the range of\"\n",
    "      f\" ${ci_lower_50} and ${ci_upper_50}\")"
   ]
  },
  {
   "cell_type": "code",
   "execution_count": null,
   "metadata": {},
   "outputs": [],
   "source": []
  }
 ],
 "metadata": {
  "kernelspec": {
   "display_name": "Python 3",
   "language": "python",
   "name": "python3"
  },
  "language_info": {
   "codemirror_mode": {
    "name": "ipython",
    "version": 3
   },
   "file_extension": ".py",
   "mimetype": "text/x-python",
   "name": "python",
   "nbconvert_exporter": "python",
   "pygments_lexer": "ipython3",
   "version": "3.8.5"
  }
 },
 "nbformat": 4,
 "nbformat_minor": 4
}
